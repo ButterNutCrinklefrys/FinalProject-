{
 "cells": [
  {
   "cell_type": "code",
   "execution_count": null,
   "id": "2fe867bd-1ab3-48ae-9dbb-a0bc82233524",
   "metadata": {},
   "outputs": [],
   "source": [
    "# Remember, stage, commit, then push it for edits in GitHub. "
   ]
  },
  {
   "cell_type": "code",
   "execution_count": 1,
   "id": "7f0f0093-8179-4388-b3ea-fb7bbdc50876",
   "metadata": {},
   "outputs": [],
   "source": [
    "class Person:\n",
    "\n",
    "    def __init__(self, first_name, last_name, total_bill):\n",
    "        \n",
    "        self.first_name = first_name\n",
    "        self.last_name = last_name\n",
    "        self.totatl_bill = total_bill\n",
    "        \n",
    "        "
   ]
  },
  {
   "cell_type": "code",
   "execution_count": 4,
   "id": "9ed0b5b6-49bb-4e23-a691-638cd6d567ca",
   "metadata": {},
   "outputs": [
    {
     "name": "stdout",
     "output_type": "stream",
     "text": [
      "Please enter an option one of the following options\n",
      "\n",
      "The options are:\n",
      " 'Exit' To Leave the System. \n",
      " 'Discharge' to Discharge a Patient \n",
      "\n"
     ]
    },
    {
     "name": "stdin",
     "output_type": "stream",
     "text": [
      " Discharge\n"
     ]
    }
   ],
   "source": [
    "class Patient_Discharge(Person):\n",
    "    \n",
    "    def __init__(self, first_name, last_name, total_bill):\n",
    "        super().__init__(self, first_name, last_name)\n",
    "        self.total_bill = total_bill\n",
    "\n",
    "    def options(self):\n",
    "\n",
    "        flag = True\n",
    "        \n",
    "        while flag == True:\n",
    "            \n",
    "            print(f\"Please enter an option one of the following options\\n\")\n",
    "\n",
    "            print(f\"The options are:\\n 'Exit' To Leave the System. \\n 'Discharge' to Discharge a Patient \\n\")\n",
    "            \n",
    "            user_input = input().capitalize()\n",
    "            \n",
    "            if user_input == 'Exit':\n",
    "                print(f\"You have entered \\\"{user_input}\\\" and have left the system\")\n",
    "                flag = False\n",
    "            \n",
    "            elif user_input == 'Discharge':\n",
    "                \n",
    "                altered_info = (, )  \n",
    "                with open(f\"{Patient_1.first_name}_disachareged.txt\", 'w'):\n",
    "                    \n",
    "\n",
    "                \n",
    "                \n",
    "                flag = False\n",
    "\n",
    "            else: \n",
    "                print(\"Hmm, seems like an error occured, please try again.\\n\")\n",
    "       \n",
    "        while flag == False:\n",
    "            return\n",
    "\n",
    "Patient_1 = Patient_Discharge(\"John\", \"Doe\", \"$20,000\")\n",
    "\n",
    "\n",
    "Patient_1.options()"
   ]
  }
 ],
 "metadata": {
  "kernelspec": {
   "display_name": "Python 3 (ipykernel)",
   "language": "python",
   "name": "python3"
  },
  "language_info": {
   "codemirror_mode": {
    "name": "ipython",
    "version": 3
   },
   "file_extension": ".py",
   "mimetype": "text/x-python",
   "name": "python",
   "nbconvert_exporter": "python",
   "pygments_lexer": "ipython3",
   "version": "3.11.5"
  }
 },
 "nbformat": 4,
 "nbformat_minor": 5
}
